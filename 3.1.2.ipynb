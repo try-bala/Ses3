{
 "cells": [
  {
   "cell_type": "raw",
   "metadata": {},
   "source": [
    "Implement a Python program to generate all sentences where subject is in [\"Americans\",\"Indians\"] and verb is in [\"Play\", watch\"] and the object is in [\"Baseball\",\"cricket\"].\n",
    "\n",
    "Hint: Subject,Verb and Object should be declared in the program as shown below.\n",
    "\n",
    "subjects=[\"Americans \",\"Indians\"]\n",
    "verbs=[\"play\",\"watch\"]\n",
    "objects=[\"Baseball\",\"Cricket\"]\n",
    "\n",
    "Output should come as below:\n",
    "\n",
    "Americans play Baseball.\n",
    "Americans play Cricket.\n",
    "Americans watch Baseball.\n",
    "Americans watch Cricket.\n",
    "Indians play Baseball.\n",
    "Indians play Cricket.\n",
    "Indians watch Baseball.\n",
    "Indians watch Cricket."
   ]
  },
  {
   "cell_type": "code",
   "execution_count": 1,
   "metadata": {},
   "outputs": [],
   "source": [
    "def generateTextFile():\n",
    "    \n",
    "    subjects=[\"Americans\",\"Indians\"]\n",
    "    verbs=[\" play \",\" watch \"]\n",
    "    objects=[\"Baseball\",\"Cricket\"]\n",
    "    \n",
    "    try:\n",
    "        f = open(\"sentences.txt\",\"w\")\n",
    "        for subject in subjects:\n",
    "            for verb in verbs:\n",
    "                for objectV in objects:\n",
    "                    f.write(subject + verb + objectV + \".\\n\")\n",
    "    except IOError:\n",
    "        print(\"IO error occured\")\n",
    "    else:\n",
    "        f.close()\n",
    "        print(\"Sentences generated successfully as sentences.txt\")\n",
    "    finally:\n",
    "        print(\"Execution completed\")"
   ]
  },
  {
   "cell_type": "code",
   "execution_count": 2,
   "metadata": {},
   "outputs": [
    {
     "name": "stdout",
     "output_type": "stream",
     "text": [
      "Sentences generated successfully as sentences.txt\n",
      "Execution completed\n"
     ]
    }
   ],
   "source": [
    "generateTextFile()"
   ]
  }
 ],
 "metadata": {
  "kernelspec": {
   "display_name": "Python 3",
   "language": "python",
   "name": "python3"
  },
  "language_info": {
   "codemirror_mode": {
    "name": "ipython",
    "version": 3
   },
   "file_extension": ".py",
   "mimetype": "text/x-python",
   "name": "python",
   "nbconvert_exporter": "python",
   "pygments_lexer": "ipython3",
   "version": "3.6.5"
  }
 },
 "nbformat": 4,
 "nbformat_minor": 2
}
