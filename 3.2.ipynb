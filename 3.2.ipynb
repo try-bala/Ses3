{
 "cells": [
  {
   "cell_type": "code",
   "execution_count": 1,
   "metadata": {},
   "outputs": [],
   "source": [
    "# Vandermonde matrix\n",
    "\n",
    "import numpy as np\n",
    "\n",
    "def myVanderMat(X,N,f):\n",
    "    if (f):\n",
    "        return (np.flip(np.column_stack([X ** (N-1-i) for i in range(N)]),axis=1))\n",
    "    else:\n",
    "        return (np.column_stack([X ** (N-1-i) for i in range(N)]))\n"
   ]
  },
  {
   "cell_type": "code",
   "execution_count": 2,
   "metadata": {},
   "outputs": [
    {
     "name": "stdout",
     "output_type": "stream",
     "text": [
      "[[  1   0   0   0   0]\n",
      " [  1   1   1   1   1]\n",
      " [  1   2   4   8  16]\n",
      " [  1   3   9  27  81]\n",
      " [  1   4  16  64 256]]\n"
     ]
    }
   ],
   "source": [
    "X = np.arange(5)\n",
    "print(myVanderMat(X,5,True))"
   ]
  },
  {
   "cell_type": "code",
   "execution_count": 3,
   "metadata": {},
   "outputs": [
    {
     "name": "stdout",
     "output_type": "stream",
     "text": [
      "[[  0   0   0   0   1]\n",
      " [  1   1   1   1   1]\n",
      " [ 16   8   4   2   1]\n",
      " [ 81  27   9   3   1]\n",
      " [256  64  16   4   1]]\n"
     ]
    }
   ],
   "source": [
    "print(myVanderMat(X,5,False))"
   ]
  }
 ],
 "metadata": {
  "kernelspec": {
   "display_name": "Python 3",
   "language": "python",
   "name": "python3"
  },
  "language_info": {
   "codemirror_mode": {
    "name": "ipython",
    "version": 3
   },
   "file_extension": ".py",
   "mimetype": "text/x-python",
   "name": "python",
   "nbconvert_exporter": "python",
   "pygments_lexer": "ipython3",
   "version": "3.6.5"
  }
 },
 "nbformat": 4,
 "nbformat_minor": 2
}
